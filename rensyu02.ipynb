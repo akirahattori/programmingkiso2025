{
 "cells": [
  {
   "cell_type": "code",
   "execution_count": 17,
   "id": "33cbbdd9-a912-430c-8c59-9f86de8b6ff9",
   "metadata": {},
   "outputs": [
    {
     "name": "stdout",
     "output_type": "stream",
     "text": [
      "0.30000000000000004\n",
      "3.5\n",
      "3\n",
      "1\n",
      "49\n",
      "1024\n",
      "65536\n",
      "1.7999999999999998\n",
      "0.174\n",
      "0.17400000000000002\n"
     ]
    }
   ],
   "source": [
    "#演習1\n",
    "print(0.1*3)\n",
    "print(7/2)\n",
    "print(7//2) #小数点以下を切り捨て\n",
    "print(7%2) #余り\n",
    "print(7**2) #7の2乗（7×7）\n",
    "print(2**10) #2の10乗\n",
    "print(2**16)\n",
    "\n",
    "#丸め誤差\n",
    "print(0.6*3)\n",
    "print(0.11+(0.055+0.009))\n",
    "print((0.11+0.055)+0.009)"
   ]
  },
  {
   "cell_type": "code",
   "execution_count": 3,
   "id": "8737fbe1-0f55-4d9a-9613-e7c0d91081d2",
   "metadata": {},
   "outputs": [
    {
     "name": "stdin",
     "output_type": "stream",
     "text": [
      "半径： 1.5\n"
     ]
    },
    {
     "name": "stdout",
     "output_type": "stream",
     "text": [
      "7.065\n"
     ]
    }
   ],
   "source": [
    "#演習4、演習5\n",
    "#半径を入力し、変数rに代入\n",
    "r=float(input('半径：'))\n",
    "\n",
    "#面積は「半径×半径×3.14」で計算\n",
    "area=r*r*3.14\n",
    "print(area)"
   ]
  },
  {
   "cell_type": "code",
   "execution_count": 9,
   "id": "680c4fa9-9653-4306-afb0-6241fc20db6a",
   "metadata": {},
   "outputs": [
    {
     "name": "stdout",
     "output_type": "stream",
     "text": [
      "円周率3.141592653589793\n"
     ]
    },
    {
     "name": "stdin",
     "output_type": "stream",
     "text": [
      "半径： 1.5\n"
     ]
    },
    {
     "name": "stdout",
     "output_type": "stream",
     "text": [
      "7.0685834705770345\n",
      "7.069\n"
     ]
    }
   ],
   "source": [
    "#演習4、演習5\n",
    "#mathモジュールをimport\n",
    "import math\n",
    "\n",
    "#円周率の確認\n",
    "print(f'円周率{math.pi}')\n",
    "\n",
    "#半径を入力し、変数rに代入\n",
    "r=float(input('半径：'))\n",
    "\n",
    "#面積は「半径×半径×3.14」で計算\n",
    "#math.piは円周率\n",
    "area=r*r*math.pi\n",
    "print(area)\n",
    "\n",
    "#f文字列を利用して、小数点以下第3位まで表示\n",
    "print(f'{area:.3f}')"
   ]
  },
  {
   "cell_type": "code",
   "execution_count": 11,
   "id": "f07395f3-c007-4ff5-b14f-aed6d4b40ffe",
   "metadata": {},
   "outputs": [
    {
     "name": "stdin",
     "output_type": "stream",
     "text": [
      "半径： 1.5\n"
     ]
    },
    {
     "name": "stdout",
     "output_type": "stream",
     "text": [
      "半径1.5の円の面積は7.065です\n",
      "半径1.5の円の面積は7.065です\n",
      "半径1.5の円の面積は7.065です\n"
     ]
    }
   ],
   "source": [
    "#演習4、演習5\n",
    "#半径を入力し、変数rに代入\n",
    "r=float(input('半径：'))\n",
    "\n",
    "#面積は「半径×半径×3.14」で計算\n",
    "area=r*r*3.14\n",
    "print('半径'+str(r)+'の円の面積は'+str(area)+'です')\n",
    "print('半径{}の円の面積は{}です'.format(r, area))\n",
    "print(f'半径{r}の円の面積は{area}です')"
   ]
  },
  {
   "cell_type": "code",
   "execution_count": 1,
   "id": "8aa0b221-a4a3-4ac3-8768-9942c4009030",
   "metadata": {},
   "outputs": [
    {
     "name": "stdout",
     "output_type": "stream",
     "text": [
      "['False', 'None', 'True', 'and', 'as', 'assert', 'async', 'await', 'break', 'class', 'continue', 'def', 'del', 'elif', 'else', 'except', 'finally', 'for', 'from', 'global', 'if', 'import', 'in', 'is', 'lambda', 'nonlocal', 'not', 'or', 'pass', 'raise', 'return', 'try', 'while', 'with', 'yield']\n"
     ]
    }
   ],
   "source": [
    "#演習6\n",
    "#予約語（変数名として使えない）\n",
    "import keyword\n",
    "print(keyword.kwlist)"
   ]
  },
  {
   "cell_type": "code",
   "execution_count": 18,
   "id": "679ae80e-8cf4-43a6-a235-89ba8ae69239",
   "metadata": {},
   "outputs": [
    {
     "name": "stdout",
     "output_type": "stream",
     "text": [
      "学生番号GK9999の服部哲です\n",
      "学生番号GK9999の服部哲です\n",
      "学生番号\n",
      "GK9999\n",
      "学生番号GK9999\n"
     ]
    }
   ],
   "source": [
    "#演習9（アンパック代入）\n",
    "student_number, name='GK9999', '服部哲'\n",
    "print('学生番号'+student_number+'の'+name+'です')\n",
    "print(f'学生番号{student_number}の{name}です')\n",
    "\n",
    "#printの改行をコントロール\n",
    "print('学生番号')\n",
    "print(student_number)\n",
    "print('学生番号', end='')\n",
    "print(student_number)"
   ]
  },
  {
   "cell_type": "code",
   "execution_count": 1,
   "id": "5a9771ac-0b6f-470f-8e2b-184a2ffeb365",
   "metadata": {},
   "outputs": [
    {
     "name": "stdout",
     "output_type": "stream",
     "text": [
      "0\n",
      "0\n",
      "1\n",
      "2\n"
     ]
    }
   ],
   "source": [
    "#演習10\n",
    "counter=0\n",
    "print(counter)\n",
    "\n",
    "#代入していないためcounterは0のまま\n",
    "counter+1\n",
    "print(counter)\n",
    "\n",
    "#counterに1を加えてcounterに再代入\n",
    "counter=counter+1\n",
    "print(counter)\n",
    "\n",
    "#上記を簡単に書く（複合代入演算子）\n",
    "counter+=1\n",
    "print(counter)"
   ]
  },
  {
   "cell_type": "code",
   "execution_count": 13,
   "id": "0e703115-3cb7-4e69-a4f7-9b1b832fe349",
   "metadata": {},
   "outputs": [
    {
     "name": "stdin",
     "output_type": "stream",
     "text": [
      "税抜き価格： 500\n"
     ]
    },
    {
     "name": "stdout",
     "output_type": "stream",
     "text": [
      "税抜き500円、税込み550円\n"
     ]
    }
   ],
   "source": [
    "#演習14\n",
    "#税抜き価格を入力し、税込み価格を計算\n",
    "excluding_tax=input('税抜き価格：')\n",
    "including_tax=int(int(excluding_tax)*1.1)\n",
    "print(f'税抜き{excluding_tax}円、税込み{including_tax}円')"
   ]
  },
  {
   "cell_type": "code",
   "execution_count": 36,
   "id": "0e3d7b9d-d8f9-49bf-92b1-f4a2a31cb00b",
   "metadata": {},
   "outputs": [
    {
     "name": "stdin",
     "output_type": "stream",
     "text": [
      "年齢を入力してください 18\n"
     ]
    },
    {
     "name": "stdout",
     "output_type": "stream",
     "text": [
      "<class 'str'>\n",
      "<class 'int'>\n"
     ]
    }
   ],
   "source": [
    "#演習15\n",
    "#データの型\n",
    "age=input('年齢を入力してください')\n",
    "#inputでは数字は文字列（str）扱い\n",
    "print(type(age))\n",
    "\n",
    "#入力された年齢（数字）を文字列（str）から整数（int）に変換\n",
    "age=int(age)\n",
    "print(type(age))"
   ]
  },
  {
   "cell_type": "code",
   "execution_count": 15,
   "id": "f1f5f0a1-a39e-4c7e-a18f-227a81eec180",
   "metadata": {},
   "outputs": [
    {
     "name": "stdin",
     "output_type": "stream",
     "text": [
      "令和 7\n"
     ]
    },
    {
     "name": "stdout",
     "output_type": "stream",
     "text": [
      "2025\n"
     ]
    }
   ],
   "source": [
    "#演習16\n",
    "#和暦（令和）を入力\n",
    "jiy=input('令和')\n",
    "ad=int(jiy)+2018\n",
    "print(ad)"
   ]
  },
  {
   "cell_type": "code",
   "execution_count": 17,
   "id": "ab5c29e3-90d7-4f32-a9e2-3f381bab8510",
   "metadata": {},
   "outputs": [
    {
     "name": "stdin",
     "output_type": "stream",
     "text": [
      "令和 7\n"
     ]
    },
    {
     "name": "stdout",
     "output_type": "stream",
     "text": [
      "令和7年は西暦2025年です\n"
     ]
    }
   ],
   "source": [
    "#演習16\n",
    "#和暦（令和）を入力\n",
    "jiy=input('令和')\n",
    "ad=int(jiy)+2018\n",
    "print(f'令和{jiy}年は西暦{ad}年です')"
   ]
  },
  {
   "cell_type": "code",
   "execution_count": 19,
   "id": "b4900a9f-85e0-4a01-8e7e-07ba4f8e124c",
   "metadata": {},
   "outputs": [
    {
     "name": "stdin",
     "output_type": "stream",
     "text": [
      "令和 7\n"
     ]
    },
    {
     "name": "stdout",
     "output_type": "stream",
     "text": [
      "令和7年は西暦2025年です\n"
     ]
    }
   ],
   "source": [
    "#演習16\n",
    "#和暦（令和）を入力（inputの結果をintで整数に変換してからjiyに代入）\n",
    "jiy=int(input('令和'))\n",
    "ad=jiy+2018\n",
    "print(f'令和{jiy}年は西暦{ad}年です')"
   ]
  },
  {
   "cell_type": "code",
   "execution_count": 5,
   "id": "a824255a-3550-4bc8-be65-8617103e200d",
   "metadata": {},
   "outputs": [
    {
     "name": "stdin",
     "output_type": "stream",
     "text": [
      "税抜き価格を入力してください (終了する場合は q を入力):  500\n"
     ]
    },
    {
     "name": "stdout",
     "output_type": "stream",
     "text": [
      "\n",
      "--- 計算結果 ---\n",
      "税抜き価格: 500 円\n",
      "税込み価格: 550 円\n",
      "---------------\n",
      "\n"
     ]
    },
    {
     "name": "stdin",
     "output_type": "stream",
     "text": [
      "税抜き価格を入力してください (終了する場合は q を入力):  q\n"
     ]
    },
    {
     "name": "stdout",
     "output_type": "stream",
     "text": [
      "プログラムを終了します。\n"
     ]
    }
   ],
   "source": [
    "#Gemini 2.5 proが作成\n",
    "# 消費税率を定義（10%）\n",
    "TAX_RATE = 0.10\n",
    "\n",
    "while True:\n",
    "  try:\n",
    "    # 税抜き価格の入力を促し、入力値を取得\n",
    "    price_without_tax_str = input(\"税抜き価格を入力してください (終了する場合は q を入力): \")\n",
    "\n",
    "    # 'q'が入力されたらループを終了\n",
    "    if price_without_tax_str.lower() == 'q':\n",
    "        print(\"プログラムを終了します。\")\n",
    "        break\n",
    "\n",
    "    # 入力値を浮動小数点数に変換\n",
    "    price_without_tax = float(price_without_tax_str)\n",
    "\n",
    "    # 価格が負でないかチェック\n",
    "    if price_without_tax < 0:\n",
    "        print(\"エラー: 価格は0以上である必要があります。\")\n",
    "        continue # ループの先頭に戻る\n",
    "\n",
    "    # 税込み価格を計算\n",
    "    price_with_tax = price_without_tax * (1 + TAX_RATE)\n",
    "\n",
    "    # --- 結果の表示 ---\n",
    "    print(\"\\n--- 計算結果 ---\") # 見出しを追加\n",
    "    # 税抜き価格を表示 (入力された値なので、int()で整数化するか、そのまま表示するか選択)\n",
    "    # ここでは入力に合わせて整数で表示します\n",
    "    print(f\"税抜き価格: {int(price_without_tax)} 円\")\n",
    "    # 税込み価格を表示 (計算結果、小数点以下は切り捨て)\n",
    "    print(f\"税込み価格: {int(price_with_tax)} 円\")\n",
    "    print(\"---------------\\n\") # 区切り線と改行を追加\n",
    "\n",
    "    # 小数点以下も表示したい場合の例 (コメントアウト)\n",
    "    # print(\"\\n--- 計算結果 (小数点以下表示) ---\")\n",
    "    # print(f\"税抜き価格: {price_without_tax:.2f} 円\") # 小数点以下2桁まで\n",
    "    # print(f\"税込み価格: {price_with_tax:.2f} 円\") # 小数点以下2桁まで\n",
    "    # print(\"-----------------------------------\\n\")\n",
    "\n",
    "  except ValueError:\n",
    "    # 数字以外が入力された場合のエラー処理\n",
    "    print(\"エラー: 有効な数値を入力してください。\")\n",
    "  except Exception as e:\n",
    "    # その他の予期せぬエラー処理\n",
    "    print(f\"予期せぬエラーが発生しました: {e}\")"
   ]
  },
  {
   "cell_type": "code",
   "execution_count": 38,
   "id": "7afc9e4e-aec4-4927-9491-a0e78b185955",
   "metadata": {},
   "outputs": [
    {
     "name": "stdin",
     "output_type": "stream",
     "text": [
      "令和の年数を数字で入力してください (例: 5) (終了する場合は q を入力):  7\n"
     ]
    },
    {
     "name": "stdout",
     "output_type": "stream",
     "text": [
      "令和7年は、西暦2025年です。\n",
      "------------------------------\n"
     ]
    },
    {
     "name": "stdin",
     "output_type": "stream",
     "text": [
      "令和の年数を数字で入力してください (例: 5) (終了する場合は q を入力):  q\n"
     ]
    },
    {
     "name": "stdout",
     "output_type": "stream",
     "text": [
      "プログラムを終了します。\n"
     ]
    }
   ],
   "source": [
    "#Gemini 2.5 proが作成\n",
    "# 令和の開始西暦年\n",
    "REIWA_START_YEAR = 2019\n",
    "\n",
    "while True:\n",
    "    try:\n",
    "        # ユーザーに令和の年数を入力してもらう (数字のみ)\n",
    "        reiwa_input = input(\"令和の年数を数字で入力してください (例: 5) (終了する場合は q を入力): \")\n",
    "\n",
    "        # 'q' または 'Q' が入力されたらプログラムを終了\n",
    "        if reiwa_input.lower() == 'q':\n",
    "            print(\"プログラムを終了します。\")\n",
    "            break\n",
    "\n",
    "        # 入力された文字列を整数に変換\n",
    "        reiwa_year = int(reiwa_input)\n",
    "\n",
    "        # 1以上の整数か確認\n",
    "        if reiwa_year <= 0:\n",
    "            print(\"エラー: 1以上の整数を入力してください。\")\n",
    "            continue # ループの最初に戻る\n",
    "\n",
    "        # 西暦を計算\n",
    "        # 令和N年は 西暦 (REIWA_START_YEAR + N - 1) 年\n",
    "        gregorian_year = REIWA_START_YEAR + reiwa_year - 1\n",
    "\n",
    "        # 結果を表示\n",
    "        print(f\"令和{reiwa_year}年は、西暦{gregorian_year}年です。\")\n",
    "        print(\"-\" * 30) # 見やすいように区切り線を入れる\n",
    "\n",
    "    except ValueError:\n",
    "        # 整数に変換できない入力（文字列など）があった場合のエラー処理\n",
    "        print(\"エラー: 半角数字で年数を入力してください。\")\n",
    "    except Exception as e:\n",
    "        # その他の予期せぬエラー処理\n",
    "        print(f\"予期せぬエラーが発生しました: {e}\")"
   ]
  },
  {
   "cell_type": "code",
   "execution_count": null,
   "id": "0c2cab28-1bfe-49cb-85b2-c1e8f8a2861c",
   "metadata": {},
   "outputs": [],
   "source": []
  }
 ],
 "metadata": {
  "kernelspec": {
   "display_name": "Python [conda env:base] *",
   "language": "python",
   "name": "conda-base-py"
  },
  "language_info": {
   "codemirror_mode": {
    "name": "ipython",
    "version": 3
   },
   "file_extension": ".py",
   "mimetype": "text/x-python",
   "name": "python",
   "nbconvert_exporter": "python",
   "pygments_lexer": "ipython3",
   "version": "3.12.7"
  }
 },
 "nbformat": 4,
 "nbformat_minor": 5
}
