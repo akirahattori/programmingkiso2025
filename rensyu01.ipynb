{
 "cells": [
  {
   "cell_type": "code",
   "execution_count": 1,
   "id": "be0c03b0-5603-4962-9ece-7e92f4614880",
   "metadata": {},
   "outputs": [
    {
     "name": "stdout",
     "output_type": "stream",
     "text": [
      "GK9999服部哲趣味は映画を観ることです。\n"
     ]
    }
   ],
   "source": [
    "print('GK9999'\n",
    "     '服部哲'\n",
    "     '趣味は映画を観ることです。')"
   ]
  },
  {
   "cell_type": "code",
   "execution_count": 3,
   "id": "1cffea0e-03fb-4b59-a8e2-e43429cf86f1",
   "metadata": {},
   "outputs": [
    {
     "name": "stdout",
     "output_type": "stream",
     "text": [
      "GK9999\n",
      "服部哲\n",
      "趣味は映画を観ることです。\n"
     ]
    }
   ],
   "source": [
    "print('GK9999\\n'\n",
    "     '服部哲\\n'\n",
    "     '趣味は映画を観ることです。')"
   ]
  },
  {
   "cell_type": "code",
   "execution_count": 5,
   "id": "c22ba06a-4f4f-496c-a57f-cb64c1886ffd",
   "metadata": {},
   "outputs": [
    {
     "name": "stdout",
     "output_type": "stream",
     "text": [
      "GK9999\n",
      "服部哲\n",
      "趣味は映画を観ることです。\n"
     ]
    }
   ],
   "source": [
    "print('GK9999')\n",
    "print('服部哲')\n",
    "print('趣味は映画を観ることです。')"
   ]
  },
  {
   "cell_type": "code",
   "execution_count": null,
   "id": "900a573a-ff45-4fce-8983-971bffd20647",
   "metadata": {},
   "outputs": [],
   "source": []
  }
 ],
 "metadata": {
  "kernelspec": {
   "display_name": "Python [conda env:base] *",
   "language": "python",
   "name": "conda-base-py"
  },
  "language_info": {
   "codemirror_mode": {
    "name": "ipython",
    "version": 3
   },
   "file_extension": ".py",
   "mimetype": "text/x-python",
   "name": "python",
   "nbconvert_exporter": "python",
   "pygments_lexer": "ipython3",
   "version": "3.12.7"
  }
 },
 "nbformat": 4,
 "nbformat_minor": 5
}
